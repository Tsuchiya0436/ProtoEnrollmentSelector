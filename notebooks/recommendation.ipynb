{
 "cells": [
  {
   "cell_type": "code",
   "execution_count": 18,
   "metadata": {},
   "outputs": [],
   "source": [
    "import pandas as pd\n",
    "\n",
    "from sklearn.feature_extraction.text import TfidfVectorizer\n",
    "from sklearn.metrics.pairwise import cosine_similarity"
   ]
  },
  {
   "cell_type": "code",
   "execution_count": 19,
   "metadata": {},
   "outputs": [
    {
     "data": {
      "text/plain": [
       "0    21世紀、世界はアジアを中心に大交流時代に突入する。アジアの人々とのより良い交流のため、アジ...\n",
       "1    21世紀、世界はアジアを中心に大交流時代に突入する。アジアの人々とのより良い交流のため、アジ...\n",
       "2    21世紀はアジアの時代と言われ、アジアを中心に世界が動き出す。アジアの人々とのより良い交流の...\n",
       "Name: 授業概要, dtype: object"
      ]
     },
     "execution_count": 19,
     "metadata": {},
     "output_type": "execute_result"
    }
   ],
   "source": [
    "df = pd.read_csv('../data/syllabus.csv')\n",
    "\n",
    "documents = df['授業概要'].copy()\n",
    "\n",
    "documents.head(3)"
   ]
  },
  {
   "cell_type": "code",
   "execution_count": 20,
   "metadata": {},
   "outputs": [],
   "source": [
    "vectorizer = TfidfVectorizer()\n",
    "tfidf_matrix = vectorizer.fit_transform(documents)\n",
    "\n",
    "df_tfidf = pd.DataFrame(tfidf_matrix.toarray(), columns=vectorizer.get_feature_names_out())"
   ]
  },
  {
   "cell_type": "code",
   "execution_count": 21,
   "metadata": {},
   "outputs": [
    {
     "data": {
      "text/html": [
       "<div>\n",
       "<style scoped>\n",
       "    .dataframe tbody tr th:only-of-type {\n",
       "        vertical-align: middle;\n",
       "    }\n",
       "\n",
       "    .dataframe tbody tr th {\n",
       "        vertical-align: top;\n",
       "    }\n",
       "\n",
       "    .dataframe thead th {\n",
       "        text-align: right;\n",
       "    }\n",
       "</style>\n",
       "<table border=\"1\" class=\"dataframe\">\n",
       "  <thead>\n",
       "    <tr style=\"text-align: right;\">\n",
       "      <th></th>\n",
       "      <th>講義名</th>\n",
       "    </tr>\n",
       "  </thead>\n",
       "  <tbody>\n",
       "    <tr>\n",
       "      <th>0</th>\n",
       "      <td>履修登録確認表などを用いて、正式な講義名を入力してください。</td>\n",
       "    </tr>\n",
       "    <tr>\n",
       "      <th>1</th>\n",
       "      <td>例</td>\n",
       "    </tr>\n",
       "    <tr>\n",
       "      <th>2</th>\n",
       "      <td>心理学</td>\n",
       "    </tr>\n",
       "  </tbody>\n",
       "</table>\n",
       "</div>"
      ],
      "text/plain": [
       "                              講義名\n",
       "0  履修登録確認表などを用いて、正式な講義名を入力してください。\n",
       "1                               例\n",
       "2                             心理学"
      ]
     },
     "execution_count": 21,
     "metadata": {},
     "output_type": "execute_result"
    }
   ],
   "source": [
    "df_taken = pd.read_csv('../data/taken_courses.csv')\n",
    "taken_courses = df_taken['講義名'].tolist()\n",
    "df_taken.head(3)"
   ]
  },
  {
   "cell_type": "code",
   "execution_count": 22,
   "metadata": {},
   "outputs": [],
   "source": [
    "taken_indices = df[df['講義名'].isin(taken_courses)].index\n",
    "taken_vectors = tfidf_matrix[taken_indices]\n",
    "\n",
    "similarities = cosine_similarity(taken_vectors, tfidf_matrix)\n",
    "\n",
    "df['類似度'] = similarities.mean(axis=0)\n",
    "\n",
    "filtered_df = df[\n",
    "    (df['開講年次'] > 2) &\n",
    "    (~df['講義名'].isin(taken_courses)) &\n",
    "    (~df['講義名'].str.contains('Ⅱ', regex=True))\n",
    "].drop_duplicates(subset='講義名')\n",
    "\n",
    "recommended = filtered_df.sort_values(by='類似度', ascending=False)\n",
    "recommended = recommended['講義名'].tolist()"
   ]
  },
  {
   "cell_type": "code",
   "execution_count": 23,
   "metadata": {},
   "outputs": [
    {
     "name": "stdout",
     "output_type": "stream",
     "text": [
      "これまでの傾向からあなたに推薦する講義は\n",
      "第1位：家族心理学\n",
      "第2位：データサイエンス\n",
      "第3位：AIとビジネスモデル\n",
      "第4位：AI実践プログラミング\n",
      "第5位：国際経営論Ⅰ\n",
      "第6位：現代社会と文化\n",
      "第7位：日本文化研究F（現代社会と文化）\n",
      "第8位：簿記原理Ⅰ\n",
      "第9位：環境経営論Ⅰ\n",
      "第10位：メディア情報論\n"
     ]
    }
   ],
   "source": [
    "print('これまでの傾向からあなたに推薦する講義は')\n",
    "\n",
    "for i in range(10):\n",
    "    print(f'第{i+1}位：{recommended[i]}')"
   ]
  }
 ],
 "metadata": {
  "kernelspec": {
   "display_name": "base",
   "language": "python",
   "name": "python3"
  },
  "language_info": {
   "codemirror_mode": {
    "name": "ipython",
    "version": 3
   },
   "file_extension": ".py",
   "mimetype": "text/x-python",
   "name": "python",
   "nbconvert_exporter": "python",
   "pygments_lexer": "ipython3",
   "version": "3.11.7"
  }
 },
 "nbformat": 4,
 "nbformat_minor": 2
}
